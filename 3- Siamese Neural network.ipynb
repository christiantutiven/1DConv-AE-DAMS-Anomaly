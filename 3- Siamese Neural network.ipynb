{
 "cells": [
  {
   "cell_type": "markdown",
   "id": "2fa0ffbd",
   "metadata": {},
   "source": [
    "# Import libraries"
   ]
  },
  {
   "cell_type": "code",
   "execution_count": 1,
   "id": "f06a4c89",
   "metadata": {},
   "outputs": [],
   "source": [
    "import torch\n",
    "import numpy as np\n",
    "import random\n",
    "from torch.utils.data import DataLoader, Dataset\n",
    "import torch.nn as nn\n",
    "import torch.optim as optim\n",
    "import matplotlib.pyplot as plt\n",
    "import random"
   ]
  },
  {
   "cell_type": "code",
   "execution_count": 2,
   "id": "51c0a51b-1589-4748-b43b-7027b5c40c9a",
   "metadata": {},
   "outputs": [
    {
     "name": "stdout",
     "output_type": "stream",
     "text": [
      "Sistema operativo: Windows 10\n",
      "Arquitectura: AMD64\n"
     ]
    }
   ],
   "source": [
    "import platform, psutil\n",
    "\n",
    "print(\"Sistema operativo:\", platform.system(), platform.release())\n",
    "print(\"Arquitectura:\", platform.machine())"
   ]
  },
  {
   "cell_type": "code",
   "execution_count": 3,
   "id": "52baebdc-be0c-43b5-b923-6908f6317b37",
   "metadata": {},
   "outputs": [
    {
     "name": "stdout",
     "output_type": "stream",
     "text": [
      "RAM total: 68.3 GB, disponible: 48.8 GB\n"
     ]
    }
   ],
   "source": [
    "# Memoria RAM\n",
    "mem = psutil.virtual_memory()\n",
    "print(f\"RAM total: {mem.total/1e9:.1f} GB, disponible: {mem.available/1e9:.1f} GB\")"
   ]
  },
  {
   "cell_type": "code",
   "execution_count": 4,
   "id": "0883117d-40f7-4b36-898c-033272426345",
   "metadata": {},
   "outputs": [
    {
     "name": "stdout",
     "output_type": "stream",
     "text": [
      "CPU físicos: 24, hilos: 32\n",
      "CPU modelo: Intel64 Family 6 Model 183 Stepping 1, GenuineIntel\n"
     ]
    }
   ],
   "source": [
    "# CPU\n",
    "cpu_count = psutil.cpu_count(logical=False)\n",
    "cpu_threads = psutil.cpu_count(logical=True)\n",
    "print(f\"CPU físicos: {cpu_count}, hilos: {cpu_threads}\")\n",
    "print(\"CPU modelo:\", platform.processor())"
   ]
  },
  {
   "cell_type": "code",
   "execution_count": 5,
   "id": "69e65478-cc86-440a-b2c2-cde7f3f61b6d",
   "metadata": {},
   "outputs": [
    {
     "name": "stdout",
     "output_type": "stream",
     "text": [
      "GPU disponible: NVIDIA GeForce RTX 4090 Laptop GPU\n",
      "Memoria total GPU: 17.170956288 GB\n"
     ]
    }
   ],
   "source": [
    "# Cell 2: información de la GPU (PyTorch)\n",
    "import torch\n",
    "\n",
    "if torch.cuda.is_available():\n",
    "    print(\"GPU disponible:\", torch.cuda.get_device_name(0))\n",
    "    print(\"Memoria total GPU:\", torch.cuda.get_device_properties(0).total_memory/1e9, \"GB\")\n",
    "else:\n",
    "    print(\"No se detectó GPU CUDA\")"
   ]
  },
  {
   "cell_type": "markdown",
   "id": "5186fbd3",
   "metadata": {},
   "source": [
    "This cell loads preprocessed data from .npy (NumPy binary files), which contain the original data matrices, case labels, and indices. It then checks the shape of the loaded data to ensure it matches the expected dimensions before using it to train a 1D Siamese convolutional network."
   ]
  },
  {
   "cell_type": "code",
   "execution_count": 6,
   "id": "065609d3",
   "metadata": {},
   "outputs": [
    {
     "name": "stdout",
     "output_type": "stream",
     "text": [
      "(3620, 58, 7) (270, 58, 7) (3620,) (270,)\n"
     ]
    }
   ],
   "source": [
    "# Load .npy files allowing object loading\n",
    "train_matrices_3d = np.load('data_split/train_matrices.npy', allow_pickle=True)\n",
    "val_matrices_3d = np.load('data_split/val_matrices.npy', allow_pickle=True)\n",
    "train_cases = np.load('data_split/train_cases.npy', allow_pickle=True)\n",
    "val_cases = np.load('data_split/val_cases.npy', allow_pickle=True)\n",
    "train_indices = np.load('data_split/train_indices.npy', allow_pickle=True)\n",
    "val_indices = np.load('data_split/val_indices.npy', allow_pickle=True)\n",
    "\n",
    "# Print the forms of the loaded data to verify\n",
    "print(train_matrices_3d.shape, val_matrices_3d.shape, train_cases.shape, val_cases.shape)"
   ]
  },
  {
   "cell_type": "code",
   "execution_count": 7,
   "id": "387a9b56",
   "metadata": {},
   "outputs": [
    {
     "name": "stdout",
     "output_type": "stream",
     "text": [
      "(3620, 7) (270, 7)\n"
     ]
    }
   ],
   "source": [
    "print(train_indices.shape, val_indices.shape)"
   ]
  },
  {
   "cell_type": "markdown",
   "id": "857c8d96",
   "metadata": {},
   "source": [
    "# Convert problem to Binary"
   ]
  },
  {
   "cell_type": "markdown",
   "id": "97bfa843",
   "metadata": {},
   "source": [
    "This cell defines and applies a function to convert case labels into binary values. The conversion follows this logic:\n",
    "\n",
    "0 (healthy): Represents dams in a healthy state. All instances of case '0' are converted to the value 0.\n",
    "\n",
    "1 (damaged): Represents dams with some type of damage. All instances other than '0' (e.g., '1a', '1b', '2a', '2b', '3a', '3b', '4') are converted to the value 1.\n",
    "\n",
    "This allows the model to distinguish between the two main categories: healthy dams and damaged dams."
   ]
  },
  {
   "cell_type": "code",
   "execution_count": 8,
   "id": "1c8b1888",
   "metadata": {},
   "outputs": [],
   "source": [
    "# Convert labels to binary\n",
    "def convert_to_binary(cases):\n",
    "    return np.where(cases == '0', 0, 1)\n",
    "\n",
    "# Convert the labels in each dataset\n",
    "train_cases_binary = convert_to_binary(train_cases)\n",
    "val_cases_binary = convert_to_binary(val_cases)"
   ]
  },
  {
   "cell_type": "code",
   "execution_count": 9,
   "id": "c105ada7",
   "metadata": {},
   "outputs": [],
   "source": [
    "# Ensure labels are treated as integers\n",
    "train_cases_binary = train_cases_binary.astype(int)\n",
    "val_cases_binary = val_cases_binary.astype(int)"
   ]
  },
  {
   "cell_type": "markdown",
   "id": "68e88245",
   "metadata": {},
   "source": [
    "# Pair creation"
   ]
  },
  {
   "cell_type": "markdown",
   "id": "a91b1d32",
   "metadata": {},
   "source": [
    "This is done by ensuring that inverted pairs are not repeated and that positive pairs are not the same data."
   ]
  },
  {
   "cell_type": "markdown",
   "id": "f40fdeee",
   "metadata": {},
   "source": [
    "This cell defines the create_pairs_with_indices function, which generates positive and negative data pairs to train a Siamese network, while ensuring that the pairs are unique and traceable.\n",
    "\n",
    "**Positive pairs:** These are formed with two samples with the same label, randomly selected from the same group. It is ensured that the two samples are not the same.\n",
    "\n",
    "**Negative pairs:** These are formed with two samples with different labels, randomly selected from opposite groups. Duplication of negative pairs is avoided (for example, by swapping sample positions).\n",
    "\n",
    "**Each pair is associated with:**\n",
    "\n",
    "The pair's data: Two sequences or time windows (one for each sample in the pair).\n",
    "\n",
    "The pair's label: 0 for positive pairs (same labels) and 1 for negative pairs (different labels).\n",
    "\n",
    "The original indices: A list that preserves the indices of the windows that make up each pair, allowing the samples in the original dataset to be traced.\n",
    "\n",
    "This function organizes data into a format suitable for training a Siamese network, allowing it to learn to differentiate between similar and dissimilar pairs based on the data labels."
   ]
  },
  {
   "cell_type": "code",
   "execution_count": 10,
   "id": "0ada351b",
   "metadata": {},
   "outputs": [],
   "source": [
    "def create_pairs_with_indices(data, labels, indices, seed=42):\n",
    "    \"\"\"\n",
    "    Creates positive and negative pairs to train a Siamese network, ensuring reproducibility.\n",
    "    It also keeps track of the original indices.\n",
    "\n",
    "    Parameters:\n",
    "    data (np.ndarray): Data array of shape (n_samples, ...).\n",
    "    labels (np.ndarray): Array of binary labels of shape (n_samples, ...).\n",
    "    indices (np.ndarray): Array of original indices of shape (n_samples, window_size).\n",
    "    seed (int): Seed to ensure reproducibility.\n",
    "\n",
    "    Returns:\n",
    "    tuple: Three arrays, one for the data pairs, one for the labels of the pairs, and one for the original indices of the pairs.\n",
    "    \"\"\"\n",
    "    # Set the seed for reproducibility\n",
    "    np.random.seed(seed)\n",
    "\n",
    "    pairs = []\n",
    "    pair_labels = []\n",
    "    pair_indices = []\n",
    "\n",
    "    # Dictionary to group data by label #In which indexes do I have 0 and in which 1\n",
    "    label_to_indices = {label: np.where(labels == label)[0] for label in np.unique(labels)}\n",
    "\n",
    "    # Create positive pairs (same labels)\n",
    "    for idx in range(len(data)):\n",
    "        current_label = labels[idx]\n",
    "        # Select the first positive index other than the current one\n",
    "        positive_indices = label_to_indices[current_label]\n",
    "        positive_idx = positive_indices[np.random.choice(len(positive_indices), replace=False)]\n",
    "        while positive_idx == idx:  # Avoid pairs with yourself\n",
    "            positive_idx = positive_indices[np.random.choice(len(positive_indices), replace=False)]\n",
    "        pairs.append([data[idx], data[positive_idx]])\n",
    "        pair_labels.append(0)  # Label 0 for positive pairs\n",
    "        pair_indices.append([indices[idx], indices[positive_idx]])\n",
    "\n",
    "    # Create negative pairs (different labels)\n",
    "    for idx in range(len(data)):\n",
    "        current_label = labels[idx]\n",
    "        negative_label = 1 - current_label  # Change the label (from 0 to 1 or from 1 to 0)\n",
    "        # Select the first negative index\n",
    "        negative_indices = label_to_indices[negative_label]\n",
    "        negative_idx = negative_indices[np.random.choice(len(negative_indices), replace=False)]\n",
    "        pairs.append([data[idx], data[negative_idx]])\n",
    "        pair_labels.append(1)  # Label 1 for negative pairs\n",
    "        pair_indices.append([indices[idx], indices[negative_idx]])\n",
    "\n",
    "    return np.array(pairs), np.array(pair_labels), np.array(pair_indices)"
   ]
  },
  {
   "cell_type": "code",
   "execution_count": 11,
   "id": "13847814",
   "metadata": {},
   "outputs": [],
   "source": [
    "# Create pairs for the training and validation sets\n",
    "train_pairs, train_pair_labels, train_pair_indices = create_pairs_with_indices(train_matrices_3d, train_cases_binary, train_indices)\n",
    "val_pairs, val_pair_labels, val_pair_indices = create_pairs_with_indices(val_matrices_3d, val_cases_binary, val_indices)"
   ]
  },
  {
   "cell_type": "code",
   "execution_count": 12,
   "id": "75356fa2",
   "metadata": {},
   "outputs": [
    {
     "name": "stdout",
     "output_type": "stream",
     "text": [
      "(7240, 2, 58, 7) (7240,)\n",
      "(540, 2, 58, 7) (540,)\n"
     ]
    }
   ],
   "source": [
    "# Print the data forms created for verification\n",
    "print(train_pairs.shape, train_pair_labels.shape)\n",
    "print(val_pairs.shape, val_pair_labels.shape)"
   ]
  },
  {
   "cell_type": "code",
   "execution_count": 13,
   "id": "d7f4ec7c",
   "metadata": {},
   "outputs": [
    {
     "data": {
      "text/plain": [
       "((7240, 2, 58, 7), (7240,), (7240, 2, 7), (540, 2, 58, 7), (540,), (540, 2, 7))"
      ]
     },
     "execution_count": 13,
     "metadata": {},
     "output_type": "execute_result"
    }
   ],
   "source": [
    "train_pairs.shape, train_pair_labels.shape, train_pair_indices.shape, val_pairs.shape, val_pair_labels.shape, val_pair_indices.shape"
   ]
  },
  {
   "cell_type": "markdown",
   "id": "e2b4231c",
   "metadata": {},
   "source": [
    "**Check the number of positive and negative pairs**"
   ]
  },
  {
   "cell_type": "code",
   "execution_count": 14,
   "id": "c5a51c32",
   "metadata": {},
   "outputs": [
    {
     "name": "stdout",
     "output_type": "stream",
     "text": [
      "Training set: 3620 positive pairs, 3620 negative pairs\n",
      "Validation set: 270 positive pairs, 270 negative pairs\n"
     ]
    }
   ],
   "source": [
    "train_positive_pairs = np.sum(train_pair_labels == 0)\n",
    "train_negative_pairs = np.sum(train_pair_labels == 1)\n",
    "val_positive_pairs = np.sum(val_pair_labels == 0)\n",
    "val_negative_pairs = np.sum(val_pair_labels == 1)\n",
    "\n",
    "print(f\"Training set: {train_positive_pairs} positive pairs, {train_negative_pairs} negative pairs\")\n",
    "print(f\"Validation set: {val_positive_pairs} positive pairs, {val_negative_pairs} negative pairs\")"
   ]
  },
  {
   "cell_type": "markdown",
   "id": "521acb9b",
   "metadata": {},
   "source": [
    "Verify Unique labels"
   ]
  },
  {
   "cell_type": "code",
   "execution_count": 15,
   "id": "1e0f150d",
   "metadata": {},
   "outputs": [
    {
     "name": "stdout",
     "output_type": "stream",
     "text": [
      "[0 1]\n"
     ]
    }
   ],
   "source": [
    "print(np.unique(train_pair_labels))"
   ]
  },
  {
   "cell_type": "markdown",
   "id": "72210017",
   "metadata": {},
   "source": [
    "Review label creation"
   ]
  },
  {
   "cell_type": "code",
   "execution_count": 16,
   "id": "df009895",
   "metadata": {},
   "outputs": [
    {
     "name": "stdout",
     "output_type": "stream",
     "text": [
      "Índices originales del par: [[  0   1   2   3   4   5   6]\n",
      " [326 327 328 329 330 331 332]]\n",
      "Etiqueta del par: 0\n"
     ]
    }
   ],
   "source": [
    "# Seleccionar un par del conjunto de entrenamiento\n",
    "pair_idx = 0\n",
    "\n",
    "# Obtener los índices originales del par\n",
    "original_indices = train_pair_indices[pair_idx]\n",
    "\n",
    "# Obtener la etiqueta del par (0 para positivo, 1 para negativo)\n",
    "pair_label = train_pair_labels[pair_idx]\n",
    "\n",
    "# Verificar las muestras correspondientes en los datos originales\n",
    "print(f\"Índices originales del par: {original_indices}\")\n",
    "print(f\"Etiqueta del par: {pair_label}\")"
   ]
  },
  {
   "cell_type": "markdown",
   "id": "1ceb8abd",
   "metadata": {},
   "source": [
    "# Define Architecture"
   ]
  },
  {
   "cell_type": "markdown",
   "id": "55159e0b",
   "metadata": {},
   "source": [
    "We place seed"
   ]
  },
  {
   "cell_type": "markdown",
   "id": "1b8a3578",
   "metadata": {},
   "source": [
    "This cell defines a function called set_seed to set a seed in various Python libraries (such as random, numpy, and torch). Setting a seed ensures reproducible results, which is crucial in machine learning and deep learning experiments."
   ]
  },
  {
   "cell_type": "code",
   "execution_count": 17,
   "id": "6997147c",
   "metadata": {},
   "outputs": [],
   "source": [
    "def set_seed(seed):\n",
    "    random.seed(seed)\n",
    "    np.random.seed(seed)\n",
    "    torch.manual_seed(seed)\n",
    "    if torch.cuda.is_available():\n",
    "        torch.cuda.manual_seed_all(seed)\n",
    "\n",
    "# Set the seed\n",
    "set_seed(42)"
   ]
  },
  {
   "cell_type": "markdown",
   "id": "5daf286a",
   "metadata": {},
   "source": [
    "This cell defines the SiameseDataset class, a subclass of PyTorch's Dataset. This class allows you to organize and access data in pairs, which is the format required to train a Siamese network. It is designed to handle previously generated data (data pairs and their labels) and structure them into a format suitable for use in a DataLoader."
   ]
  },
  {
   "cell_type": "code",
   "execution_count": 18,
   "id": "37e6e575",
   "metadata": {},
   "outputs": [],
   "source": [
    "# Define the SiameseDataset class without including the indexes\n",
    "class SiameseDataset(Dataset):\n",
    "    def __init__(self, pairs, pair_labels):\n",
    "        self.pairs = pairs\n",
    "        self.pair_labels = pair_labels\n",
    "\n",
    "    def __len__(self):\n",
    "        return len(self.pairs)\n",
    "\n",
    "    def __getitem__(self, idx):\n",
    "        x1 = torch.tensor(self.pairs[idx][0].squeeze(), dtype=torch.float32)\n",
    "        x2 = torch.tensor(self.pairs[idx][1].squeeze(), dtype=torch.float32)\n",
    "        label = torch.tensor(self.pair_labels[idx], dtype=torch.float32)\n",
    "        return x1, x2, label"
   ]
  },
  {
   "cell_type": "code",
   "execution_count": 19,
   "id": "9347a11d",
   "metadata": {},
   "outputs": [],
   "source": [
    "train_dataset = SiameseDataset(train_pairs, train_pair_labels)\n",
    "val_dataset = SiameseDataset(val_pairs, val_pair_labels)"
   ]
  },
  {
   "cell_type": "code",
   "execution_count": 20,
   "id": "2f91750e",
   "metadata": {},
   "outputs": [
    {
     "data": {
      "text/plain": [
       "7240"
      ]
     },
     "execution_count": 20,
     "metadata": {},
     "output_type": "execute_result"
    }
   ],
   "source": [
    "len(train_dataset)"
   ]
  },
  {
   "cell_type": "code",
   "execution_count": 21,
   "id": "05a3816e",
   "metadata": {},
   "outputs": [],
   "source": [
    "# Get an example from the training set\n",
    "train_example = train_dataset[0]\n",
    "val_example = val_dataset[0]"
   ]
  },
  {
   "cell_type": "code",
   "execution_count": 22,
   "id": "3416005f",
   "metadata": {},
   "outputs": [
    {
     "name": "stdout",
     "output_type": "stream",
     "text": [
      "Shape of the training set examples:\n",
      "x1: torch.Size([58, 7])\n",
      "x2: torch.Size([58, 7])\n",
      "label: torch.Size([])\n"
     ]
    }
   ],
   "source": [
    "# Imprimir las formas de los datos\n",
    "print(\"Shape of the training set examples:\")\n",
    "print(\"x1:\", train_example[0].shape)\n",
    "print(\"x2:\", train_example[1].shape)\n",
    "print(\"label:\", train_example[2].shape)"
   ]
  },
  {
   "cell_type": "code",
   "execution_count": 23,
   "id": "7018efad",
   "metadata": {},
   "outputs": [
    {
     "name": "stdout",
     "output_type": "stream",
     "text": [
      "Shape of the validation set examples:\n",
      "x1: torch.Size([58, 7])\n",
      "x2: torch.Size([58, 7])\n",
      "label: torch.Size([])\n"
     ]
    }
   ],
   "source": [
    "print(\"Shape of the validation set examples:\")\n",
    "print(\"x1:\", val_example[0].shape)\n",
    "print(\"x2:\", val_example[1].shape)\n",
    "print(\"label:\", val_example[2].shape)"
   ]
  },
  {
   "cell_type": "markdown",
   "id": "703da046",
   "metadata": {},
   "source": [
    "**Dataloader creation**"
   ]
  },
  {
   "cell_type": "markdown",
   "id": "73ece6c9",
   "metadata": {},
   "source": [
    "This cell configures the PyTorch DataLoaders for the training and validation sets. DataLoaders are responsible for organizing and managing the data in batches, shuffling them, and making them reproducible by setting seeds. This ensures an efficient and controlled flow of data during model training and validation."
   ]
  },
  {
   "cell_type": "code",
   "execution_count": 24,
   "id": "43d3e520",
   "metadata": {},
   "outputs": [],
   "source": [
    "# Set the seed for reproducibility\n",
    "set_seed(42)\n",
    "batch_size = 256\n",
    "g = torch.Generator()\n",
    "g.manual_seed(40)      # semilla reproducible\n",
    "\n",
    "\n",
    "train_dataloader = DataLoader(\n",
    "    train_dataset,\n",
    "    batch_size=batch_size,\n",
    "    shuffle=True,  # Mix the data for each epoch\n",
    "    generator=g,\n",
    "    worker_init_fn=lambda worker_id: np.random.seed(42 + worker_id)  # Reproducible seed for each worker\n",
    ")\n",
    "val_dataloader = DataLoader(\n",
    "    val_dataset,\n",
    "    batch_size=batch_size,\n",
    "    shuffle=True,\n",
    "    generator=g,\n",
    "    worker_init_fn=lambda worker_id: np.random.seed(42 + worker_id)  \n",
    ")"
   ]
  },
  {
   "cell_type": "code",
   "execution_count": 25,
   "id": "6f7531d2",
   "metadata": {},
   "outputs": [],
   "source": [
    "# Load a batch and view its contents\n",
    "dataiter = iter(train_dataloader)\n",
    "x1_batch, x2_batch, labels_batch = next(dataiter)"
   ]
  },
  {
   "cell_type": "code",
   "execution_count": 26,
   "id": "f894919a",
   "metadata": {},
   "outputs": [
    {
     "name": "stdout",
     "output_type": "stream",
     "text": [
      "Shape of x1_batch: torch.Size([256, 58, 7])\n",
      "Shape of x2_batch: torch.Size([256, 58, 7])\n",
      "Shape of label_batch: torch.Size([256])\n"
     ]
    }
   ],
   "source": [
    "print(\"Shape of x1_batch:\", x1_batch.shape)\n",
    "print(\"Shape of x2_batch:\", x2_batch.shape)\n",
    "print(\"Shape of label_batch:\", labels_batch.shape)"
   ]
  },
  {
   "cell_type": "code",
   "execution_count": 27,
   "id": "41460430",
   "metadata": {},
   "outputs": [
    {
     "data": {
      "text/plain": [
       "tensor([1., 1., 1., 1., 1., 1., 1., 1., 1., 1., 1., 1., 1., 0., 0., 0., 0., 0.,\n",
       "        0., 0., 1., 0., 0., 0., 1., 0., 0., 0., 1., 1., 0., 1., 1., 0., 0., 0.,\n",
       "        1., 1., 0., 0., 1., 1., 0., 1., 0., 0., 0., 0., 1., 0., 0., 0., 0., 1.,\n",
       "        1., 0., 1., 1., 0., 1., 1., 0., 1., 0., 1., 1., 1., 1., 1., 1., 1., 0.,\n",
       "        0., 1., 1., 1., 1., 0., 0., 0., 1., 0., 0., 1., 0., 0., 1., 1., 1., 1.,\n",
       "        1., 1., 0., 1., 1., 0., 0., 1., 1., 1., 0., 1., 0., 1., 1., 1., 0., 0.,\n",
       "        1., 1., 1., 1., 0., 0., 0., 0., 0., 0., 1., 0., 0., 0., 0., 0., 1., 1.,\n",
       "        0., 0., 1., 0., 1., 1., 0., 0., 0., 0., 1., 1., 1., 1., 0., 0., 1., 1.,\n",
       "        0., 0., 1., 1., 1., 0., 0., 1., 1., 1., 0., 0., 0., 0., 0., 0., 1., 1.,\n",
       "        0., 1., 1., 1., 0., 0., 0., 0., 0., 0., 1., 1., 1., 1., 1., 0., 1., 0.,\n",
       "        0., 1., 0., 1., 1., 1., 1., 1., 0., 1., 0., 0., 0., 1., 0., 0., 0., 0.,\n",
       "        0., 0., 0., 1., 1., 1., 0., 0., 1., 0., 0., 0., 0., 1., 0., 0., 1., 0.,\n",
       "        1., 0., 0., 0., 0., 0., 0., 0., 1., 0., 1., 0., 0., 1., 0., 0., 0., 1.,\n",
       "        0., 1., 1., 0., 1., 1., 1., 0., 1., 0., 1., 1., 0., 0., 0., 1., 1., 1.,\n",
       "        1., 0., 1., 0.])"
      ]
     },
     "execution_count": 27,
     "metadata": {},
     "output_type": "execute_result"
    }
   ],
   "source": [
    "labels_batch"
   ]
  },
  {
   "cell_type": "code",
   "execution_count": 28,
   "id": "f003371f",
   "metadata": {
    "scrolled": true
   },
   "outputs": [
    {
     "name": "stdout",
     "output_type": "stream",
     "text": [
      "First pair of observations in the batch:\n",
      "x1: tensor([[0.8792, 0.9140, 0.9383, 0.9430, 0.9540, 0.9741, 0.9814],\n",
      "        [0.5733, 0.5583, 0.5855, 0.6051, 0.6121, 0.6019, 0.6181],\n",
      "        [0.3692, 0.6136, 0.6038, 0.4545, 0.5021, 0.5783, 0.3240],\n",
      "        [0.4036, 0.2659, 0.3162, 0.2896, 0.3761, 0.4330, 0.3191],\n",
      "        [0.5591, 0.5940, 0.6138, 0.5588, 0.5740, 0.5934, 0.6044],\n",
      "        [0.3710, 0.3265, 0.4221, 0.4317, 0.2207, 0.3812, 0.4498],\n",
      "        [0.5770, 0.5917, 0.5898, 0.5949, 0.6260, 0.6719, 0.6600],\n",
      "        [0.3343, 0.3210, 0.2919, 0.3125, 0.2499, 0.2010, 0.2375],\n",
      "        [0.7092, 0.5651, 0.5378, 0.6162, 0.6972, 0.6992, 0.6129],\n",
      "        [0.5952, 0.6494, 0.5292, 0.7565, 0.5162, 0.6526, 0.5541],\n",
      "        [0.6757, 0.7211, 0.7395, 0.7423, 0.7774, 0.7579, 0.8371],\n",
      "        [0.3099, 0.0882, 0.1717, 0.1335, 0.2670, 0.1304, 0.3177],\n",
      "        [0.6926, 0.7078, 0.7567, 0.7440, 0.7816, 0.7957, 0.8173],\n",
      "        [0.2893, 0.2553, 0.2015, 0.3000, 0.2655, 0.2136, 0.1743],\n",
      "        [0.6552, 0.6895, 0.7128, 0.7113, 0.7290, 0.7479, 0.7560],\n",
      "        [0.3379, 0.3060, 0.2703, 0.2811, 0.1808, 0.1625, 0.1642],\n",
      "        [0.6814, 0.7847, 0.8090, 0.7897, 0.6992, 0.8047, 0.8165],\n",
      "        [0.6260, 0.7057, 0.5848, 0.6710, 0.4434, 0.6787, 0.6902],\n",
      "        [0.6502, 0.6647, 0.6928, 0.7203, 0.7104, 0.7353, 0.7358],\n",
      "        [0.6160, 0.6480, 0.7528, 0.5968, 0.6464, 0.4664, 0.3768],\n",
      "        [0.7445, 0.8032, 0.8317, 0.8325, 0.8534, 0.8789, 0.8776],\n",
      "        [0.5153, 0.4375, 0.4053, 0.4792, 0.4646, 0.3601, 0.5294],\n",
      "        [0.7238, 0.7847, 0.7748, 0.7814, 0.7861, 0.8411, 0.8387],\n",
      "        [0.5187, 0.4382, 0.5249, 0.4694, 0.5794, 0.4668, 0.5317],\n",
      "        [0.4682, 0.5062, 0.5037, 0.4899, 0.5415, 0.4956, 0.5295],\n",
      "        [0.6597, 0.7609, 0.6558, 0.5645, 0.7252, 0.5585, 0.6448],\n",
      "        [0.6353, 0.6875, 0.6912, 0.7245, 0.7125, 0.7589, 0.7453],\n",
      "        [0.3355, 0.4605, 0.4127, 0.6517, 0.5478, 0.4007, 0.5184],\n",
      "        [0.6864, 0.7324, 0.7687, 0.7439, 0.7841, 0.8038, 0.8079],\n",
      "        [0.5658, 0.5730, 0.6901, 0.6182, 0.6037, 0.5061, 0.4923],\n",
      "        [0.6916, 0.7313, 0.7533, 0.7477, 0.7601, 0.8006, 0.8057],\n",
      "        [0.6084, 0.5761, 0.4491, 0.5347, 0.2821, 0.4133, 0.4814],\n",
      "        [0.6650, 0.7020, 0.7168, 0.7135, 0.7278, 0.7606, 0.7616],\n",
      "        [0.4110, 0.4794, 0.3806, 0.3901, 0.4294, 0.1970, 0.4959],\n",
      "        [0.5427, 0.4513, 0.4973, 0.4762, 0.5109, 0.5295, 0.5123],\n",
      "        [0.3558, 0.2401, 0.6731, 0.5338, 0.5038, 0.3280, 0.4362],\n",
      "        [0.5883, 0.6533, 0.6407, 0.6708, 0.6911, 0.6815, 0.6926],\n",
      "        [0.5060, 0.5375, 0.3876, 0.6167, 0.5451, 0.6515, 0.4202],\n",
      "        [0.6456, 0.6707, 0.7170, 0.7089, 0.7047, 0.7710, 0.7566],\n",
      "        [0.5775, 0.5862, 0.7614, 0.6453, 0.5371, 0.7433, 0.7419],\n",
      "        [0.6700, 0.7054, 0.7306, 0.7299, 0.7427, 0.7697, 0.7756],\n",
      "        [0.5695, 0.5548, 0.4863, 0.4949, 0.5508, 0.6122, 0.5838],\n",
      "        [0.6471, 0.6870, 0.6851, 0.6888, 0.7091, 0.7327, 0.7415],\n",
      "        [0.4804, 0.5468, 0.5295, 0.6241, 0.6672, 0.6632, 0.5745],\n",
      "        [0.5913, 0.6291, 0.5010, 0.5612, 0.5689, 0.6243, 0.5777],\n",
      "        [0.4295, 0.4703, 0.5631, 0.6386, 0.5755, 0.4468, 0.5483],\n",
      "        [0.6153, 0.6726, 0.6844, 0.6841, 0.7192, 0.7243, 0.7236],\n",
      "        [0.5697, 0.6971, 0.7045, 0.6879, 0.7304, 0.6898, 0.5946],\n",
      "        [0.6697, 0.7223, 0.7259, 0.7411, 0.7181, 0.7766, 0.7693],\n",
      "        [0.5824, 0.7072, 0.6627, 0.6312, 0.6595, 0.7248, 0.8346],\n",
      "        [0.6634, 0.7071, 0.7185, 0.7105, 0.7380, 0.7483, 0.7589],\n",
      "        [0.6763, 0.7479, 0.7475, 0.8071, 0.8947, 0.7833, 0.7920],\n",
      "        [0.6530, 0.6823, 0.6960, 0.6709, 0.7026, 0.7286, 0.7270],\n",
      "        [0.6288, 0.6155, 0.5705, 0.6633, 0.6116, 0.6985, 0.6817],\n",
      "        [0.5436, 0.6511, 0.5620, 0.3744, 0.4839, 0.5738, 0.6426],\n",
      "        [0.6664, 0.7885, 0.6672, 0.7473, 0.6477, 0.8002, 0.8095],\n",
      "        [0.5255, 0.5965, 0.5837, 0.6080, 0.5588, 0.5832, 0.5670],\n",
      "        [0.5188, 0.6033, 0.6903, 0.7052, 0.7397, 0.6754, 0.6081]])\n",
      "x2: tensor([[0.9509, 0.9543, 0.9516, 0.9503, 0.9480, 0.9451, 0.9412],\n",
      "        [0.6796, 0.6700, 0.6996, 0.7285, 0.7759, 0.7855, 0.8022],\n",
      "        [0.4372, 0.3946, 0.1772, 0.3527, 0.2789, 0.2584, 0.3929],\n",
      "        [0.2688, 0.2146, 0.3229, 0.3466, 0.4948, 0.6600, 0.5489],\n",
      "        [0.3792, 0.4242, 0.4412, 0.4239, 0.3871, 0.3990, 0.3607],\n",
      "        [0.3963, 0.5153, 0.3824, 0.4474, 0.5298, 0.4077, 0.4714],\n",
      "        [0.4177, 0.4327, 0.4241, 0.4274, 0.3810, 0.3689, 0.3563],\n",
      "        [0.4698, 0.5092, 0.5186, 0.5238, 0.4458, 0.5062, 0.4882],\n",
      "        [0.3944, 0.5093, 0.6023, 0.5551, 0.5445, 0.5777, 0.5704],\n",
      "        [0.3745, 0.4794, 0.3799, 0.3994, 0.3561, 0.3842, 0.3777],\n",
      "        [0.6778, 0.6210, 0.5479, 0.5774, 0.5570, 0.6039, 0.5645],\n",
      "        [0.3099, 0.3958, 0.3333, 0.2693, 0.4059, 0.4746, 0.3068],\n",
      "        [0.5494, 0.5390, 0.5353, 0.5493, 0.5285, 0.5208, 0.5131],\n",
      "        [0.3917, 0.4379, 0.5277, 0.4558, 0.4990, 0.3587, 0.5393],\n",
      "        [0.5093, 0.5131, 0.4913, 0.4828, 0.4814, 0.4504, 0.4406],\n",
      "        [0.3433, 0.2803, 0.3101, 0.3192, 0.3706, 0.2836, 0.4129],\n",
      "        [0.6144, 0.5802, 0.6336, 0.5866, 0.5734, 0.6130, 0.4996],\n",
      "        [0.4537, 0.7159, 0.4434, 0.6889, 0.4961, 0.4704, 0.6157],\n",
      "        [0.6185, 0.6293, 0.6233, 0.5980, 0.5977, 0.5848, 0.5843],\n",
      "        [0.5616, 0.4608, 0.5528, 0.6760, 0.4896, 0.4440, 0.4568],\n",
      "        [0.6495, 0.6555, 0.6440, 0.6318, 0.6149, 0.6037, 0.5730],\n",
      "        [0.3993, 0.4566, 0.4088, 0.3893, 0.4797, 0.4857, 0.4505],\n",
      "        [0.5799, 0.5746, 0.5563, 0.5556, 0.5433, 0.5226, 0.4993],\n",
      "        [0.3936, 0.4143, 0.3790, 0.3588, 0.3204, 0.3640, 0.3525],\n",
      "        [0.4020, 0.4308, 0.4239, 0.4195, 0.4172, 0.4329, 0.4066],\n",
      "        [0.4742, 0.6101, 0.7351, 0.5079, 0.6944, 0.7986, 0.7887],\n",
      "        [0.5723, 0.5544, 0.5660, 0.5628, 0.5429, 0.5450, 0.5139],\n",
      "        [0.5846, 0.4210, 0.6746, 0.7050, 0.4265, 0.6636, 0.6360],\n",
      "        [0.5961, 0.5977, 0.5785, 0.5655, 0.5576, 0.5336, 0.5210],\n",
      "        [0.6352, 0.6061, 0.6901, 0.5488, 0.5835, 0.5456, 0.5860],\n",
      "        [0.5536, 0.5632, 0.5499, 0.5410, 0.5193, 0.5081, 0.5007],\n",
      "        [0.5474, 0.6274, 0.5670, 0.6358, 0.5579, 0.5663, 0.5109],\n",
      "        [0.5103, 0.5050, 0.5026, 0.5073, 0.4833, 0.4573, 0.4425],\n",
      "        [0.4649, 0.5446, 0.6029, 0.4965, 0.4712, 0.6270, 0.5738],\n",
      "        [0.3811, 0.3726, 0.4457, 0.3808, 0.3419, 0.3588, 0.3834],\n",
      "        [0.4555, 0.3258, 0.5627, 0.3033, 0.4009, 0.1426, 0.3376],\n",
      "        [0.5086, 0.4876, 0.5010, 0.4989, 0.4963, 0.4467, 0.4245],\n",
      "        [0.1574, 0.6851, 0.7134, 0.5885, 0.4560, 0.3453, 0.6048],\n",
      "        [0.5460, 0.5346, 0.5333, 0.5378, 0.5278, 0.5073, 0.4969],\n",
      "        [0.4578, 0.4932, 0.5494, 0.4932, 0.6136, 0.4722, 0.4398],\n",
      "        [0.5558, 0.5589, 0.5504, 0.5453, 0.5318, 0.5112, 0.4836],\n",
      "        [0.5827, 0.6355, 0.6345, 0.5254, 0.5838, 0.5817, 0.6030],\n",
      "        [0.5008, 0.4885, 0.4893, 0.4817, 0.4654, 0.4504, 0.4212],\n",
      "        [0.6152, 0.5012, 0.6360, 0.5552, 0.5295, 0.6622, 0.6632],\n",
      "        [0.2883, 0.3476, 0.3893, 0.5010, 0.3175, 0.2981, 0.4359],\n",
      "        [0.4059, 0.6064, 0.4158, 0.4839, 0.4901, 0.4010, 0.2636],\n",
      "        [0.4414, 0.3993, 0.4033, 0.4391, 0.4735, 0.4043, 0.4030],\n",
      "        [0.5328, 0.5863, 0.5956, 0.5032, 0.5642, 0.5392, 0.6704],\n",
      "        [0.6007, 0.5900, 0.5584, 0.5670, 0.5710, 0.5531, 0.5322],\n",
      "        [0.3897, 0.4197, 0.3972, 0.4802, 0.4352, 0.3833, 0.2998],\n",
      "        [0.5073, 0.5060, 0.5199, 0.4920, 0.4837, 0.4640, 0.4427],\n",
      "        [0.6729, 0.6401, 0.6167, 0.6051, 0.6042, 0.6461, 0.5727],\n",
      "        [0.4878, 0.4704, 0.4835, 0.4583, 0.4414, 0.4283, 0.4057],\n",
      "        [0.5579, 0.5607, 0.5959, 0.5615, 0.4679, 0.5795, 0.5012],\n",
      "        [0.3095, 0.3220, 0.4852, 0.4275, 0.3856, 0.4079, 0.2793],\n",
      "        [0.3072, 0.5474, 0.5894, 0.4222, 0.6058, 0.3896, 0.3911],\n",
      "        [0.3514, 0.3453, 0.3740, 0.3586, 0.3256, 0.3409, 0.2720],\n",
      "        [0.4282, 0.3734, 0.4455, 0.4908, 0.4890, 0.3121, 0.4908]])\n",
      "Label: tensor(1.)\n"
     ]
    }
   ],
   "source": [
    "# Display the first pair and its label\n",
    "print(\"First pair of observations in the batch:\")\n",
    "print(\"x1:\", x1_batch[0])\n",
    "print(\"x2:\", x2_batch[0])\n",
    "print(\"Label:\", labels_batch[0])"
   ]
  },
  {
   "cell_type": "markdown",
   "id": "7587b509",
   "metadata": {},
   "source": [
    "# **Define architecture**"
   ]
  },
  {
   "cell_type": "code",
   "execution_count": 29,
   "id": "83bcd149",
   "metadata": {},
   "outputs": [],
   "source": [
    "class SiameseNetwork(nn.Module):\n",
    "    def __init__(self):\n",
    "        super(SiameseNetwork, self).__init__()\n",
    "        self.cnn = nn.Sequential(\n",
    "            nn.Conv1d(58, 128, kernel_size=3, stride=1, padding=1),\n",
    "            nn.ReLU(inplace=True),\n",
    "            nn.MaxPool1d(2, stride=2),\n",
    "            nn.Conv1d(128, 256, kernel_size=3, stride=1, padding=1),\n",
    "            nn.ReLU(inplace=True),\n",
    "            nn.MaxPool1d(2, stride=2)\n",
    "        )\n",
    "        self.fc = nn.Sequential(\n",
    "            nn.Linear(256 * 1, 256),  # Adjust input size according to Conv1d output size\n",
    "            nn.ReLU(inplace=True),\n",
    "            nn.Linear(256, 128),\n",
    "            nn.ReLU(inplace=True),\n",
    "            nn.Linear(128, 64)\n",
    "        )\n",
    "        \n",
    "        self.final_fc = nn.Linear(64, 1)\n",
    "        self.sigmoid = nn.Sigmoid()\n",
    "\n",
    "    def forward_once(self, x):\n",
    "        output = self.cnn(x)\n",
    "        output = output.view(output.size()[0], -1)\n",
    "        output = self.fc(output)\n",
    "        return output\n",
    "\n",
    "    def forward(self, x1, x2):\n",
    "        output1 = self.forward_once(x1)\n",
    "        output2 = self.forward_once(x2)\n",
    "        abs_diff = torch.abs(output1 - output2)\n",
    "        output = self.final_fc(abs_diff)\n",
    "        output = self.sigmoid(output)\n",
    "        return output"
   ]
  },
  {
   "cell_type": "markdown",
   "id": "9843ef94",
   "metadata": {},
   "source": [
    "# Training function"
   ]
  },
  {
   "cell_type": "code",
   "execution_count": 30,
   "id": "72382a7a",
   "metadata": {},
   "outputs": [],
   "source": [
    "import time\n",
    "import torch\n",
    "\n",
    "def train_and_validate(model,\n",
    "                       criterion,\n",
    "                       optimizer,\n",
    "                       train_dataloader,\n",
    "                       val_dataloader,\n",
    "                       num_epochs=10,\n",
    "                       patience=10,\n",
    "                       model_path='best_model.pth'):\n",
    "    train_losses, val_losses, val_accuracies = [], [], []\n",
    "    train_times, val_times, epoch_times = [], [], []\n",
    "    best_val_loss = float('inf')\n",
    "    epochs_without_improvement = 0\n",
    "    saved_at_100 = False\n",
    "\n",
    "    for epoch in range(num_epochs):\n",
    "        epoch_start = time.perf_counter()\n",
    "\n",
    "        # Entrenamiento\n",
    "        train_start = time.perf_counter()\n",
    "        running_train_loss = 0.0\n",
    "        model.train()\n",
    "        for x1, x2, labels in train_dataloader:\n",
    "            x1, x2, labels = x1.to(device), x2.to(device), labels.to(device).view(-1, 1)\n",
    "            optimizer.zero_grad()\n",
    "            output = model(x1, x2)\n",
    "            loss = criterion(output, labels)\n",
    "            loss.backward()\n",
    "            optimizer.step()\n",
    "            running_train_loss += loss.item()\n",
    "        train_duration = time.perf_counter() - train_start\n",
    "\n",
    "        # Validación\n",
    "        val_start = time.perf_counter()\n",
    "        running_val_loss = 0.0\n",
    "        correct, total = 0, 0\n",
    "        model.eval()\n",
    "        with torch.no_grad():\n",
    "            for x1, x2, labels in val_dataloader:\n",
    "                x1, x2, labels = x1.to(device), x2.to(device), labels.to(device).view(-1, 1)\n",
    "                output = model(x1, x2)\n",
    "                running_val_loss += criterion(output, labels).item()\n",
    "                preds = (output > 0.5).float()\n",
    "                correct += (preds == labels).sum().item()\n",
    "                total += labels.size(0)\n",
    "        val_duration = time.perf_counter() - val_start\n",
    "\n",
    "        # Metrics and times\n",
    "        avg_train_loss = running_train_loss / len(train_dataloader)\n",
    "        avg_val_loss   = running_val_loss   / len(val_dataloader)\n",
    "        accuracy       = correct / total\n",
    "        epoch_duration = time.perf_counter() - epoch_start\n",
    "\n",
    "        train_losses.append(avg_train_loss)\n",
    "        val_losses.append(avg_val_loss)\n",
    "        val_accuracies.append(accuracy)\n",
    "        train_times.append(train_duration)\n",
    "        val_times.append(val_duration)\n",
    "        epoch_times.append(epoch_duration)\n",
    "\n",
    "        # Logging\n",
    "        print(f\"Epoch [{epoch+1}/{num_epochs}]  \"\n",
    "              f\"Train Loss: {avg_train_loss:.4f}  \"\n",
    "              f\"Val Loss: {avg_val_loss:.4f}  \"\n",
    "              f\"Val Acc: {accuracy:.4f}\")\n",
    "        print(f\"    ⏱ Train: {train_duration:.2f}s  \"\n",
    "              f\"Val: {val_duration:.2f}s  \"\n",
    "              f\"Total: {epoch_duration:.2f}s\")\n",
    "\n",
    "        # Save the best model by loss\n",
    "        if avg_val_loss < best_val_loss:\n",
    "            best_val_loss = avg_val_loss\n",
    "            epochs_without_improvement = 0\n",
    "            torch.save(model.state_dict(), model_path)\n",
    "            print(f\"  💾 Mejor modelo guardado por pérdida (loss {avg_val_loss:.4f})\")\n",
    "        else:\n",
    "            epochs_without_improvement += 1\n",
    "\n",
    "        # Save the model when it reaches 100% accuracy (only once)\n",
    "        if accuracy == 1.0 and not saved_at_100:\n",
    "            torch.save(model.state_dict(), model_path)\n",
    "            saved_at_100 = True\n",
    "            print(f\"  🏆 Modelo guardado al alcanzar 100% de exactitud en validación\")\n",
    "\n",
    "        # NOTE: We no longer stop training before completing num_epochs\n",
    "\n",
    "    return {\n",
    "        'train_losses':    train_losses,\n",
    "        'val_losses':      val_losses,\n",
    "        'val_accuracies':  val_accuracies,\n",
    "        'train_times_s':   train_times,\n",
    "        'val_times_s':     val_times,\n",
    "        'epoch_times_s':   epoch_times\n",
    "    }"
   ]
  },
  {
   "cell_type": "markdown",
   "id": "d89b1c21",
   "metadata": {},
   "source": [
    "Instantiate the model"
   ]
  },
  {
   "cell_type": "code",
   "execution_count": 31,
   "id": "5a5d294a",
   "metadata": {},
   "outputs": [],
   "source": [
    "# Call the seed function before instantiating anything\n",
    "set_seed(42)\n",
    "\n",
    "# Define the model, the loss function and the optimizer\n",
    "#device = torch.device('cuda' if torch.cuda.is_available() else 'cpu')\n",
    "device = torch.device(\"cuda\")\n",
    "model = SiameseNetwork().to(device)  \n",
    "criterion = nn.BCELoss().to(device)  # Binary Cross-Entropy Loss\n",
    "optimizer = optim.Adam(model.parameters(), lr=0.001)"
   ]
  },
  {
   "cell_type": "code",
   "execution_count": 32,
   "id": "0f6c24ce",
   "metadata": {},
   "outputs": [
    {
     "name": "stdout",
     "output_type": "stream",
     "text": [
      "\n",
      "Total trainable parameters: 227,969\n"
     ]
    }
   ],
   "source": [
    "# Count parameters\n",
    "total_params = sum(p.numel() for p in model.parameters() if p.requires_grad)\n",
    "print(f\"\\nTotal trainable parameters: {total_params:,}\")"
   ]
  },
  {
   "cell_type": "code",
   "execution_count": 33,
   "id": "fd86e631",
   "metadata": {
    "scrolled": true
   },
   "outputs": [
    {
     "name": "stdout",
     "output_type": "stream",
     "text": [
      "Initial weights of the first Conv1d layer:\n",
      "Parameter containing:\n",
      "tensor([[[ 0.0580,  0.0629, -0.0178],\n",
      "         [ 0.0696, -0.0166,  0.0153],\n",
      "         [-0.0369,  0.0445,  0.0668],\n",
      "         ...,\n",
      "         [-0.0114, -0.0347,  0.0651],\n",
      "         [ 0.0169, -0.0419, -0.0384],\n",
      "         [-0.0036,  0.0423, -0.0194]],\n",
      "\n",
      "        [[-0.0433, -0.0260, -0.0566],\n",
      "         [ 0.0270,  0.0587, -0.0714],\n",
      "         [ 0.0176,  0.0392,  0.0137],\n",
      "         ...,\n",
      "         [-0.0083, -0.0066, -0.0179],\n",
      "         [-0.0384, -0.0676, -0.0613],\n",
      "         [-0.0406,  0.0732, -0.0366]],\n",
      "\n",
      "        [[-0.0509,  0.0184,  0.0209],\n",
      "         [ 0.0415,  0.0576,  0.0422],\n",
      "         [-0.0752,  0.0067,  0.0459],\n",
      "         ...,\n",
      "         [-0.0578, -0.0480, -0.0630],\n",
      "         [ 0.0661, -0.0718,  0.0572],\n",
      "         [-0.0025, -0.0088,  0.0474]],\n",
      "\n",
      "        ...,\n",
      "\n",
      "        [[ 0.0534, -0.0166, -0.0561],\n",
      "         [-0.0173, -0.0450,  0.0313],\n",
      "         [ 0.0242, -0.0348,  0.0202],\n",
      "         ...,\n",
      "         [-0.0180,  0.0165,  0.0372],\n",
      "         [-0.0217, -0.0430,  0.0234],\n",
      "         [-0.0659, -0.0667,  0.0012]],\n",
      "\n",
      "        [[-0.0371,  0.0219,  0.0151],\n",
      "         [-0.0612, -0.0436,  0.0736],\n",
      "         [-0.0053, -0.0104, -0.0342],\n",
      "         ...,\n",
      "         [-0.0679,  0.0053,  0.0241],\n",
      "         [-0.0286,  0.0048,  0.0640],\n",
      "         [ 0.0489, -0.0730, -0.0596]],\n",
      "\n",
      "        [[ 0.0319, -0.0032,  0.0621],\n",
      "         [ 0.0543, -0.0537, -0.0647],\n",
      "         [ 0.0126,  0.0236, -0.0173],\n",
      "         ...,\n",
      "         [-0.0668,  0.0664,  0.0664],\n",
      "         [ 0.0444,  0.0260, -0.0487],\n",
      "         [ 0.0569,  0.0047, -0.0108]]], device='cuda:0', requires_grad=True)\n",
      "\n",
      "Initial weights of the second Conv1d layer:\n",
      "Parameter containing:\n",
      "tensor([[[-0.0357,  0.0477,  0.0249],\n",
      "         [ 0.0293, -0.0252,  0.0424],\n",
      "         [-0.0136,  0.0430,  0.0330],\n",
      "         ...,\n",
      "         [ 0.0184, -0.0089, -0.0412],\n",
      "         [-0.0346, -0.0305,  0.0313],\n",
      "         [-0.0350, -0.0034,  0.0289]],\n",
      "\n",
      "        [[-0.0462,  0.0094,  0.0196],\n",
      "         [ 0.0458,  0.0197, -0.0166],\n",
      "         [ 0.0505, -0.0060, -0.0010],\n",
      "         ...,\n",
      "         [ 0.0362,  0.0405, -0.0084],\n",
      "         [-0.0319,  0.0471, -0.0508],\n",
      "         [ 0.0508, -0.0442, -0.0096]],\n",
      "\n",
      "        [[ 0.0230,  0.0079,  0.0433],\n",
      "         [ 0.0023, -0.0474,  0.0294],\n",
      "         [-0.0095,  0.0451,  0.0324],\n",
      "         ...,\n",
      "         [ 0.0423, -0.0195,  0.0223],\n",
      "         [ 0.0135,  0.0180,  0.0122],\n",
      "         [-0.0046, -0.0166,  0.0500]],\n",
      "\n",
      "        ...,\n",
      "\n",
      "        [[-0.0164, -0.0192,  0.0141],\n",
      "         [-0.0064, -0.0314, -0.0255],\n",
      "         [ 0.0281, -0.0103, -0.0147],\n",
      "         ...,\n",
      "         [-0.0252,  0.0176, -0.0392],\n",
      "         [ 0.0150, -0.0288, -0.0446],\n",
      "         [-0.0201,  0.0267,  0.0255]],\n",
      "\n",
      "        [[ 0.0310,  0.0080, -0.0184],\n",
      "         [-0.0354, -0.0326, -0.0372],\n",
      "         [ 0.0506,  0.0238, -0.0437],\n",
      "         ...,\n",
      "         [ 0.0270,  0.0239,  0.0049],\n",
      "         [-0.0215,  0.0275,  0.0025],\n",
      "         [-0.0437,  0.0161, -0.0380]],\n",
      "\n",
      "        [[-0.0441,  0.0178, -0.0055],\n",
      "         [ 0.0392, -0.0234, -0.0262],\n",
      "         [ 0.0129,  0.0391,  0.0503],\n",
      "         ...,\n",
      "         [-0.0277, -0.0134,  0.0478],\n",
      "         [ 0.0147, -0.0394, -0.0485],\n",
      "         [ 0.0142, -0.0211,  0.0147]]], device='cuda:0', requires_grad=True)\n",
      "\n",
      "Initial weights of the first fully connected layer:\n",
      "Parameter containing:\n",
      "tensor([[ 0.0395,  0.0611, -0.0209,  ...,  0.0035, -0.0422, -0.0499],\n",
      "        [-0.0336,  0.0381, -0.0517,  ...,  0.0285,  0.0061, -0.0073],\n",
      "        [-0.0164, -0.0256, -0.0260,  ..., -0.0089,  0.0112,  0.0126],\n",
      "        ...,\n",
      "        [-0.0273,  0.0062,  0.0364,  ..., -0.0461,  0.0543, -0.0172],\n",
      "        [-0.0212, -0.0391,  0.0414,  ...,  0.0113,  0.0391, -0.0454],\n",
      "        [-0.0500, -0.0277,  0.0383,  ..., -0.0286, -0.0139, -0.0209]],\n",
      "       device='cuda:0', requires_grad=True)\n"
     ]
    }
   ],
   "source": [
    "# Print the initial weights of some layers to verify reproducibility\n",
    "print(\"Initial weights of the first Conv1d layer:\")\n",
    "print(model.cnn[0].weight)\n",
    "\n",
    "print(\"\\nInitial weights of the second Conv1d layer:\")\n",
    "print(model.cnn[3].weight)\n",
    "\n",
    "print(\"\\nInitial weights of the first fully connected layer:\")\n",
    "print(model.fc[0].weight)"
   ]
  },
  {
   "cell_type": "code",
   "execution_count": 34,
   "id": "d8689075",
   "metadata": {},
   "outputs": [
    {
     "name": "stdout",
     "output_type": "stream",
     "text": [
      "Epoch [1/30]  Train Loss: 0.6865  Val Loss: 0.6284  Val Acc: 0.7537\n",
      "    ⏱ Train: 0.78s  Val: 0.04s  Total: 0.82s\n",
      "  💾 Mejor modelo guardado por pérdida (loss 0.6284)\n",
      "Epoch [2/30]  Train Loss: 0.3624  Val Loss: 0.2729  Val Acc: 0.8204\n",
      "    ⏱ Train: 0.52s  Val: 0.03s  Total: 0.55s\n",
      "  💾 Mejor modelo guardado por pérdida (loss 0.2729)\n",
      "Epoch [3/30]  Train Loss: 0.1882  Val Loss: 0.1878  Val Acc: 0.8630\n",
      "    ⏱ Train: 0.43s  Val: 0.02s  Total: 0.46s\n",
      "  💾 Mejor modelo guardado por pérdida (loss 0.1878)\n",
      "Epoch [4/30]  Train Loss: 0.1186  Val Loss: 0.1833  Val Acc: 0.8870\n",
      "    ⏱ Train: 0.46s  Val: 0.03s  Total: 0.49s\n",
      "  💾 Mejor modelo guardado por pérdida (loss 0.1833)\n",
      "Epoch [5/30]  Train Loss: 0.0811  Val Loss: 0.1276  Val Acc: 0.9519\n",
      "    ⏱ Train: 0.48s  Val: 0.03s  Total: 0.51s\n",
      "  💾 Mejor modelo guardado por pérdida (loss 0.1276)\n",
      "Epoch [6/30]  Train Loss: 0.2991  Val Loss: 0.3330  Val Acc: 0.7944\n",
      "    ⏱ Train: 0.53s  Val: 0.03s  Total: 0.56s\n",
      "Epoch [7/30]  Train Loss: 0.2423  Val Loss: 0.2659  Val Acc: 0.8148\n",
      "    ⏱ Train: 0.51s  Val: 0.03s  Total: 0.54s\n",
      "Epoch [8/30]  Train Loss: 0.1769  Val Loss: 0.2480  Val Acc: 0.8352\n",
      "    ⏱ Train: 0.56s  Val: 0.04s  Total: 0.60s\n",
      "Epoch [9/30]  Train Loss: 0.1520  Val Loss: 0.2454  Val Acc: 0.8407\n",
      "    ⏱ Train: 0.64s  Val: 0.05s  Total: 0.69s\n",
      "Epoch [10/30]  Train Loss: 0.1249  Val Loss: 0.1847  Val Acc: 0.8648\n",
      "    ⏱ Train: 0.67s  Val: 0.04s  Total: 0.71s\n",
      "Epoch [11/30]  Train Loss: 0.1051  Val Loss: 0.1488  Val Acc: 0.8852\n",
      "    ⏱ Train: 0.70s  Val: 0.03s  Total: 0.74s\n",
      "Epoch [12/30]  Train Loss: 0.0909  Val Loss: 0.2000  Val Acc: 0.8778\n",
      "    ⏱ Train: 0.72s  Val: 0.04s  Total: 0.76s\n",
      "Epoch [13/30]  Train Loss: 0.0837  Val Loss: 0.1591  Val Acc: 0.8944\n",
      "    ⏱ Train: 0.51s  Val: 0.04s  Total: 0.55s\n",
      "Epoch [14/30]  Train Loss: 0.0683  Val Loss: 0.1451  Val Acc: 0.9222\n",
      "    ⏱ Train: 0.48s  Val: 0.03s  Total: 0.51s\n",
      "Epoch [15/30]  Train Loss: 0.0563  Val Loss: 0.1009  Val Acc: 0.9778\n",
      "    ⏱ Train: 0.47s  Val: 0.02s  Total: 0.50s\n",
      "  💾 Mejor modelo guardado por pérdida (loss 0.1009)\n",
      "Epoch [16/30]  Train Loss: 0.0593  Val Loss: 0.1360  Val Acc: 0.9630\n",
      "    ⏱ Train: 0.58s  Val: 0.04s  Total: 0.63s\n",
      "Epoch [17/30]  Train Loss: 0.0499  Val Loss: 0.0813  Val Acc: 0.9630\n",
      "    ⏱ Train: 0.69s  Val: 0.04s  Total: 0.72s\n",
      "  💾 Mejor modelo guardado por pérdida (loss 0.0813)\n",
      "Epoch [18/30]  Train Loss: 0.0362  Val Loss: 0.0988  Val Acc: 0.9778\n",
      "    ⏱ Train: 0.63s  Val: 0.03s  Total: 0.66s\n",
      "Epoch [19/30]  Train Loss: 0.0290  Val Loss: 0.0756  Val Acc: 0.9815\n",
      "    ⏱ Train: 0.51s  Val: 0.03s  Total: 0.54s\n",
      "  💾 Mejor modelo guardado por pérdida (loss 0.0756)\n",
      "Epoch [20/30]  Train Loss: 0.0280  Val Loss: 0.0738  Val Acc: 0.9926\n",
      "    ⏱ Train: 0.50s  Val: 0.02s  Total: 0.53s\n",
      "  💾 Mejor modelo guardado por pérdida (loss 0.0738)\n",
      "Epoch [21/30]  Train Loss: 0.0264  Val Loss: 0.0784  Val Acc: 0.9926\n",
      "    ⏱ Train: 0.47s  Val: 0.03s  Total: 0.50s\n",
      "Epoch [22/30]  Train Loss: 0.0200  Val Loss: 0.0506  Val Acc: 0.9963\n",
      "    ⏱ Train: 0.65s  Val: 0.04s  Total: 0.69s\n",
      "  💾 Mejor modelo guardado por pérdida (loss 0.0506)\n",
      "Epoch [23/30]  Train Loss: 0.0144  Val Loss: 0.0456  Val Acc: 0.9963\n",
      "    ⏱ Train: 0.72s  Val: 0.04s  Total: 0.76s\n",
      "  💾 Mejor modelo guardado por pérdida (loss 0.0456)\n",
      "Epoch [24/30]  Train Loss: 0.0157  Val Loss: 0.0641  Val Acc: 0.9963\n",
      "    ⏱ Train: 0.76s  Val: 0.03s  Total: 0.79s\n",
      "Epoch [25/30]  Train Loss: 0.0130  Val Loss: 0.0372  Val Acc: 1.0000\n",
      "    ⏱ Train: 0.49s  Val: 0.03s  Total: 0.53s\n",
      "  💾 Mejor modelo guardado por pérdida (loss 0.0372)\n",
      "  🏆 Modelo guardado al alcanzar 100% de exactitud en validación\n",
      "Epoch [26/30]  Train Loss: 0.0115  Val Loss: 0.0519  Val Acc: 0.9963\n",
      "    ⏱ Train: 0.48s  Val: 0.03s  Total: 0.52s\n",
      "Epoch [27/30]  Train Loss: 0.0091  Val Loss: 0.0376  Val Acc: 0.9963\n",
      "    ⏱ Train: 0.45s  Val: 0.03s  Total: 0.48s\n",
      "Epoch [28/30]  Train Loss: 0.0109  Val Loss: 0.0552  Val Acc: 0.9981\n",
      "    ⏱ Train: 0.70s  Val: 0.04s  Total: 0.73s\n",
      "Epoch [29/30]  Train Loss: 0.0239  Val Loss: 4.9360  Val Acc: 0.5389\n",
      "    ⏱ Train: 0.75s  Val: 0.03s  Total: 0.78s\n",
      "Epoch [30/30]  Train Loss: 1.2829  Val Loss: 0.3147  Val Acc: 0.8407\n",
      "    ⏱ Train: 0.51s  Val: 0.02s  Total: 0.53s\n"
     ]
    }
   ],
   "source": [
    "results = train_and_validate(\n",
    "    model,\n",
    "    criterion,\n",
    "    optimizer,\n",
    "    train_dataloader,\n",
    "    val_dataloader,\n",
    "    num_epochs=30,\n",
    "    patience=20,\n",
    "    model_path='best_siamese_model_prueba_final.pth'\n",
    ")\n",
    "\n",
    "train_losses   = results['train_losses']\n",
    "val_losses     = results['val_losses']\n",
    "val_accuracies = results['val_accuracies']\n",
    "train_times    = results['train_times_s']\n",
    "val_times      = results['val_times_s']\n",
    "epoch_times    = results['epoch_times_s']\n"
   ]
  },
  {
   "cell_type": "code",
   "execution_count": 35,
   "id": "07f2fbf8",
   "metadata": {},
   "outputs": [
    {
     "data": {
      "image/png": "[encoded data removed]",
      "text/plain": [
       "<Figure size 600x400 with 1 Axes>"
      ]
     },
     "metadata": {},
     "output_type": "display_data"
    }
   ],
   "source": [
    "epochs = range(1, len(train_losses) + 1)\n",
    "\n",
    "# Losses\n",
    "plt.figure(figsize=(6, 4))\n",
    "plt.plot(epochs, train_losses, marker='o', label='Train Loss')\n",
    "plt.plot(epochs, val_losses, marker='o', label='Validation Loss')\n",
    "\n",
    "\n",
    "plt.axvline(25, color='red', linestyle='--', label='Best model')\n",
    "\n",
    "plt.xlabel('Epoch')\n",
    "plt.ylabel('Loss')\n",
    "plt.title('Train and Validation Loss')\n",
    "plt.legend()\n",
    "plt.tight_layout()\n",
    "\n",
    "# Guardar la figura en formato EPS\n",
    "plt.savefig(\"loss_results.pdf\", format=\"pdf\")\n",
    "\n",
    "# Mostrar la figura\n",
    "plt.show()"
   ]
  },
  {
   "cell_type": "code",
   "execution_count": 36,
   "id": "0a614662",
   "metadata": {},
   "outputs": [
    {
     "data": {
      "image/png": "[encoded data removed]",
      "text/plain": [
       "<Figure size 600x400 with 1 Axes>"
      ]
     },
     "metadata": {},
     "output_type": "display_data"
    }
   ],
   "source": [
    "epochs = range(1, len(val_accuracies) + 1)\n",
    "\n",
    "# Gráfico de accuracy\n",
    "plt.figure(figsize=(6, 4))\n",
    "plt.plot(epochs, val_accuracies, marker='o', label='Validation Accuracy')\n",
    "\n",
    "plt.axvline(25, color='red', linestyle='--', label='Best model')\n",
    "\n",
    "plt.xlabel('Epoch')\n",
    "plt.ylabel('Accuracy')\n",
    "plt.title('Validation Accuracy')\n",
    "plt.legend()\n",
    "plt.tight_layout()\n",
    "\n",
    "# Guardar la figura en formato EPS\n",
    "plt.savefig(\"accuracy_results.pdf\", format=\"pdf\")\n",
    "\n",
    "# Mostrar la figura\n",
    "plt.show()\n"
   ]
  },
  {
   "cell_type": "code",
   "execution_count": 37,
   "id": "480cd25e",
   "metadata": {},
   "outputs": [
    {
     "data": {
      "image/png": "[encoded data removed]",
      "text/plain": [
       "<Figure size 1200x400 with 2 Axes>"
      ]
     },
     "metadata": {},
     "output_type": "display_data"
    }
   ],
   "source": [
    "import matplotlib.pyplot as plt\n",
    "\n",
    "\n",
    "epochs = range(1, len(train_losses) + 1)\n",
    "\n",
    "plt.figure(figsize=(12, 4))\n",
    "plt.subplot(1, 2, 1)\n",
    "plt.plot(epochs, train_losses, marker='o', label='Train Loss')\n",
    "plt.plot(epochs, val_losses, marker='o', label='Validation Loss')\n",
    "plt.xlabel('Epoch')\n",
    "plt.ylabel('Loss')\n",
    "plt.title('Train and Validation Loss')\n",
    "plt.legend()\n",
    "\n",
    "plt.subplot(1, 2, 2)\n",
    "plt.plot(epochs, val_accuracies, marker='o', label='Validation Accuracy')\n",
    "plt.xlabel('Epoch')\n",
    "plt.ylabel('Accuracy')\n",
    "plt.title('Validation Accuracy')\n",
    "plt.legend()\n",
    "\n",
    "plt.show()"
   ]
  },
  {
   "cell_type": "code",
   "execution_count": null,
   "id": "e654a504",
   "metadata": {},
   "outputs": [],
   "source": []
  }
 ],
 "metadata": {
  "kernelspec": {
   "display_name": "Python 3 (ipykernel)",
   "language": "python",
   "name": "python3"
  },
  "language_info": {
   "codemirror_mode": {
    "name": "ipython",
    "version": 3
   },
   "file_extension": ".py",
   "mimetype": "text/x-python",
   "name": "python",
   "nbconvert_exporter": "python",
   "pygments_lexer": "ipython3",
   "version": "3.11.5"
  }
 },
 "nbformat": 4,
 "nbformat_minor": 5
}
